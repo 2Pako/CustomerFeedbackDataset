{
 "cells": [
  {
   "cell_type": "markdown",
   "id": "68609f16-5b07-49c7-b532-35d7703faf10",
   "metadata": {
    "tags": []
   },
   "source": [
    "# Customer Feedback Dataset"
   ]
  },
  {
   "cell_type": "markdown",
   "id": "1b74f7ff-9f99-46c4-982e-67ea13fa8003",
   "metadata": {},
   "source": [
    "This dataset contains customer sentiments expressed in various sources such as social media, review platforms, testimonials, and more. The dataset includes text, sentiment (positive or negative), source of the sentiment, date/time of the sentiment, user ID, location, and confidence score. The sentiments reflect customers' opinions and experiences with products, services, movies, music, books, restaurants, websites, customer support, and more."
   ]
  },
  {
   "cell_type": "markdown",
   "id": "eeee56fc-72e8-4430-b98e-687b9cbd99d9",
   "metadata": {},
   "source": [
    "Will be using this dataset to practice cleaning data"
   ]
  },
  {
   "cell_type": "markdown",
   "id": "0c7cade2-6ec3-4079-a96e-c0a7777ece1d",
   "metadata": {},
   "source": [
    "## First Step is to import the needed libraries."
   ]
  },
  {
   "cell_type": "code",
   "execution_count": 12,
   "id": "2e5b9107-a4cb-48aa-af4c-1c88e4d19fa1",
   "metadata": {},
   "outputs": [],
   "source": [
    "import pandas as pd # data processing\n",
    "import numpy as np # linear algebra\n",
    "\n"
   ]
  },
  {
   "cell_type": "markdown",
   "id": "8b8354b8-f1a1-494b-89fb-3c66cc0867da",
   "metadata": {},
   "source": [
    "## Second step is to read the data"
   ]
  },
  {
   "cell_type": "code",
   "execution_count": 15,
   "id": "f11a897c-0549-4650-92c7-a188118df6de",
   "metadata": {},
   "outputs": [
    {
     "data": {
      "text/html": [
       "<div>\n",
       "<style scoped>\n",
       "    .dataframe tbody tr th:only-of-type {\n",
       "        vertical-align: middle;\n",
       "    }\n",
       "\n",
       "    .dataframe tbody tr th {\n",
       "        vertical-align: top;\n",
       "    }\n",
       "\n",
       "    .dataframe thead th {\n",
       "        text-align: right;\n",
       "    }\n",
       "</style>\n",
       "<table border=\"1\" class=\"dataframe\">\n",
       "  <thead>\n",
       "    <tr style=\"text-align: right;\">\n",
       "      <th></th>\n",
       "      <th>Text, Sentiment, Source, Date/Time, User ID, Location, Confidence Score</th>\n",
       "    </tr>\n",
       "  </thead>\n",
       "  <tbody>\n",
       "    <tr>\n",
       "      <th>0</th>\n",
       "      <td>\"I love this product!\", Positive, Twitter, 202...</td>\n",
       "    </tr>\n",
       "    <tr>\n",
       "      <th>1</th>\n",
       "      <td>\"The service was terrible.\", Negative, Yelp Re...</td>\n",
       "    </tr>\n",
       "    <tr>\n",
       "      <th>2</th>\n",
       "      <td>\"This movie is amazing!\", Positive, IMDb, 2023...</td>\n",
       "    </tr>\n",
       "    <tr>\n",
       "      <th>3</th>\n",
       "      <td>\"I'm so disappointed with their customer suppo...</td>\n",
       "    </tr>\n",
       "    <tr>\n",
       "      <th>4</th>\n",
       "      <td>\"Just had the best meal of my life!\", Positive...</td>\n",
       "    </tr>\n",
       "    <tr>\n",
       "      <th>5</th>\n",
       "      <td>\"The quality of this product is subpar.\", Nega...</td>\n",
       "    </tr>\n",
       "    <tr>\n",
       "      <th>6</th>\n",
       "      <td>\"I can't stop listening to this song. It's inc...</td>\n",
       "    </tr>\n",
       "    <tr>\n",
       "      <th>7</th>\n",
       "      <td>\"Their website is so user-friendly. Love it!\",...</td>\n",
       "    </tr>\n",
       "    <tr>\n",
       "      <th>8</th>\n",
       "      <td>\"I loved the movie! It was fantastic!\", Positi...</td>\n",
       "    </tr>\n",
       "    <tr>\n",
       "      <th>9</th>\n",
       "      <td>\"The customer service was terrible.\", Negative...</td>\n",
       "    </tr>\n",
       "    <tr>\n",
       "      <th>10</th>\n",
       "      <td>\"This book made me feel inspired. Highly recom...</td>\n",
       "    </tr>\n",
       "    <tr>\n",
       "      <th>11</th>\n",
       "      <td>\"I'm extremely disappointed with their product...</td>\n",
       "    </tr>\n",
       "    <tr>\n",
       "      <th>12</th>\n",
       "      <td>\"Just had the most amazing vacation! I can't w...</td>\n",
       "    </tr>\n",
       "    <tr>\n",
       "      <th>13</th>\n",
       "      <td>\"The food at this restaurant was awful. Never ...</td>\n",
       "    </tr>\n",
       "    <tr>\n",
       "      <th>14</th>\n",
       "      <td>\"I can't stop listening to this song. It's my ...</td>\n",
       "    </tr>\n",
       "    <tr>\n",
       "      <th>15</th>\n",
       "      <td>\"Their website is so confusing and poorly desi...</td>\n",
       "    </tr>\n",
       "    <tr>\n",
       "      <th>16</th>\n",
       "      <td>\"I had an incredible experience at the theme p...</td>\n",
       "    </tr>\n",
       "    <tr>\n",
       "      <th>17</th>\n",
       "      <td>\"The product arrived damaged. Very disappointe...</td>\n",
       "    </tr>\n",
       "    <tr>\n",
       "      <th>18</th>\n",
       "      <td>\"The concert was absolutely breathtaking. Best...</td>\n",
       "    </tr>\n",
       "    <tr>\n",
       "      <th>19</th>\n",
       "      <td>\"I had a terrible experience with their custom...</td>\n",
       "    </tr>\n",
       "  </tbody>\n",
       "</table>\n",
       "</div>"
      ],
      "text/plain": [
       "   Text, Sentiment, Source, Date/Time, User ID, Location, Confidence Score\n",
       "0   \"I love this product!\", Positive, Twitter, 202...                     \n",
       "1   \"The service was terrible.\", Negative, Yelp Re...                     \n",
       "2   \"This movie is amazing!\", Positive, IMDb, 2023...                     \n",
       "3   \"I'm so disappointed with their customer suppo...                     \n",
       "4   \"Just had the best meal of my life!\", Positive...                     \n",
       "5   \"The quality of this product is subpar.\", Nega...                     \n",
       "6   \"I can't stop listening to this song. It's inc...                     \n",
       "7   \"Their website is so user-friendly. Love it!\",...                     \n",
       "8   \"I loved the movie! It was fantastic!\", Positi...                     \n",
       "9   \"The customer service was terrible.\", Negative...                     \n",
       "10  \"This book made me feel inspired. Highly recom...                     \n",
       "11  \"I'm extremely disappointed with their product...                     \n",
       "12  \"Just had the most amazing vacation! I can't w...                     \n",
       "13  \"The food at this restaurant was awful. Never ...                     \n",
       "14  \"I can't stop listening to this song. It's my ...                     \n",
       "15  \"Their website is so confusing and poorly desi...                     \n",
       "16  \"I had an incredible experience at the theme p...                     \n",
       "17  \"The product arrived damaged. Very disappointe...                     \n",
       "18  \"The concert was absolutely breathtaking. Best...                     \n",
       "19  \"I had a terrible experience with their custom...                     "
      ]
     },
     "execution_count": 15,
     "metadata": {},
     "output_type": "execute_result"
    }
   ],
   "source": [
    "data = pd.read_csv(\"sentiment-analysis.csv\")\n",
    "data.head(20)"
   ]
  },
  {
   "cell_type": "markdown",
   "id": "ed96eea8-b1bc-4bea-bf9b-385b5bf03db9",
   "metadata": {},
   "source": [
    "## We Can start to Clean this Data"
   ]
  },
  {
   "cell_type": "markdown",
   "id": "54c0f15a-f930-4ca4-a4d4-fcc067ff94a4",
   "metadata": {},
   "source": [
    "First we should see the dimensions of the data and if we have any null values."
   ]
  },
  {
   "cell_type": "code",
   "execution_count": 19,
   "id": "a615e41d-95e3-446f-bd20-e89103f970e7",
   "metadata": {},
   "outputs": [
    {
     "data": {
      "text/plain": [
       "<bound method DataFrame.info of    Text, Sentiment, Source, Date/Time, User ID, Location, Confidence Score\n",
       "0   \"I love this product!\", Positive, Twitter, 202...                     \n",
       "1   \"The service was terrible.\", Negative, Yelp Re...                     \n",
       "2   \"This movie is amazing!\", Positive, IMDb, 2023...                     \n",
       "3   \"I'm so disappointed with their customer suppo...                     \n",
       "4   \"Just had the best meal of my life!\", Positive...                     \n",
       "..                                                ...                     \n",
       "93  \"I can't stop listening to this song. It's my ...                     \n",
       "94  \"Their website is so confusing and poorly desi...                     \n",
       "95  \"I had an incredible experience at the theme p...                     \n",
       "96                                                NaN                     \n",
       "97                                                NaN                     \n",
       "\n",
       "[98 rows x 1 columns]>"
      ]
     },
     "execution_count": 19,
     "metadata": {},
     "output_type": "execute_result"
    }
   ],
   "source": [
    "data.info"
   ]
  },
  {
   "cell_type": "code",
   "execution_count": 21,
   "id": "05104a01-4380-4e75-889f-1584cb084523",
   "metadata": {},
   "outputs": [
    {
     "data": {
      "text/plain": [
       "<bound method DataFrame.info of    Text, Sentiment, Source, Date/Time, User ID, Location, Confidence Score\n",
       "0   \"I love this product!\", Positive, Twitter, 202...                     \n",
       "1   \"The service was terrible.\", Negative, Yelp Re...                     \n",
       "2   \"This movie is amazing!\", Positive, IMDb, 2023...                     \n",
       "3   \"I'm so disappointed with their customer suppo...                     \n",
       "4   \"Just had the best meal of my life!\", Positive...                     \n",
       "..                                                ...                     \n",
       "91  \"Just had the most amazing vacation! I can't w...                     \n",
       "92  \"The food at this restaurant was awful. Never ...                     \n",
       "93  \"I can't stop listening to this song. It's my ...                     \n",
       "94  \"Their website is so confusing and poorly desi...                     \n",
       "95  \"I had an incredible experience at the theme p...                     \n",
       "\n",
       "[96 rows x 1 columns]>"
      ]
     },
     "execution_count": 21,
     "metadata": {},
     "output_type": "execute_result"
    }
   ],
   "source": [
    "dataN = data.dropna()\n",
    "dataN.info"
   ]
  },
  {
   "cell_type": "markdown",
   "id": "59f4e058-ab7b-4ba5-ab4e-83e5fa491458",
   "metadata": {},
   "source": [
    "**A total of 2 values were NAN or null. The .dropna() function removed these. As a reminder, do not alter the raw data**"
   ]
  },
  {
   "cell_type": "markdown",
   "id": "b0fb5e7e-b9bd-4135-aee9-4861d5a88001",
   "metadata": {},
   "source": [
    "## Unravel the Data"
   ]
  },
  {
   "cell_type": "markdown",
   "id": "c7a79c8c-488b-4629-aa73-3b9cf82dff1a",
   "metadata": {},
   "source": [
    "Now that the null values have been dropped we can separate into columns "
   ]
  },
  {
   "cell_type": "markdown",
   "id": "1dd507bf-66f6-440d-9db8-7d6d1471dc3a",
   "metadata": {},
   "source": [
    "The columns are separated by \",\". Will have to separate these as such."
   ]
  },
  {
   "cell_type": "code",
   "execution_count": 24,
   "id": "66133e36-2c18-426c-bca9-deaa2f43dc92",
   "metadata": {},
   "outputs": [
    {
     "data": {
      "text/html": [
       "<div>\n",
       "<style scoped>\n",
       "    .dataframe tbody tr th:only-of-type {\n",
       "        vertical-align: middle;\n",
       "    }\n",
       "\n",
       "    .dataframe tbody tr th {\n",
       "        vertical-align: top;\n",
       "    }\n",
       "\n",
       "    .dataframe thead th {\n",
       "        text-align: right;\n",
       "    }\n",
       "</style>\n",
       "<table border=\"1\" class=\"dataframe\">\n",
       "  <thead>\n",
       "    <tr style=\"text-align: right;\">\n",
       "      <th></th>\n",
       "      <th>Text</th>\n",
       "      <th>Sentiment</th>\n",
       "      <th>Source</th>\n",
       "      <th>Date/Time</th>\n",
       "      <th>User ID</th>\n",
       "      <th>Location</th>\n",
       "      <th>Confidence Score</th>\n",
       "    </tr>\n",
       "  </thead>\n",
       "  <tbody>\n",
       "    <tr>\n",
       "      <th>0</th>\n",
       "      <td>\"I love this product!\"</td>\n",
       "      <td>Positive</td>\n",
       "      <td>Twitter</td>\n",
       "      <td>2023-06-15 09:23:14</td>\n",
       "      <td>@user123</td>\n",
       "      <td>New York</td>\n",
       "      <td>0.85</td>\n",
       "    </tr>\n",
       "    <tr>\n",
       "      <th>1</th>\n",
       "      <td>\"The service was terrible.\"</td>\n",
       "      <td>Negative</td>\n",
       "      <td>Yelp Reviews</td>\n",
       "      <td>2023-06-15 11:45:32</td>\n",
       "      <td>user456</td>\n",
       "      <td>Los Angeles</td>\n",
       "      <td>0.65</td>\n",
       "    </tr>\n",
       "    <tr>\n",
       "      <th>2</th>\n",
       "      <td>\"This movie is amazing!\"</td>\n",
       "      <td>Positive</td>\n",
       "      <td>IMDb</td>\n",
       "      <td>2023-06-15 14:10:22</td>\n",
       "      <td>moviefan789</td>\n",
       "      <td>London</td>\n",
       "      <td>0.92</td>\n",
       "    </tr>\n",
       "    <tr>\n",
       "      <th>3</th>\n",
       "      <td>\"I'm so disappointed with their customer suppo...</td>\n",
       "      <td>Negative</td>\n",
       "      <td>Online Forum</td>\n",
       "      <td>2023-06-15 17:35:11</td>\n",
       "      <td>forumuser1</td>\n",
       "      <td>Toronto</td>\n",
       "      <td>0.78</td>\n",
       "    </tr>\n",
       "    <tr>\n",
       "      <th>4</th>\n",
       "      <td>\"Just had the best meal of my life!\"</td>\n",
       "      <td>Positive</td>\n",
       "      <td>TripAdvisor</td>\n",
       "      <td>2023-06-16 08:50:59</td>\n",
       "      <td>foodie22</td>\n",
       "      <td>Paris</td>\n",
       "      <td>0.88</td>\n",
       "    </tr>\n",
       "  </tbody>\n",
       "</table>\n",
       "</div>"
      ],
      "text/plain": [
       "                                                Text  Sentiment  \\\n",
       "0                             \"I love this product!\"   Positive   \n",
       "1                        \"The service was terrible.\"   Negative   \n",
       "2                           \"This movie is amazing!\"   Positive   \n",
       "3  \"I'm so disappointed with their customer suppo...   Negative   \n",
       "4               \"Just had the best meal of my life!\"   Positive   \n",
       "\n",
       "          Source             Date/Time       User ID      Location  \\\n",
       "0        Twitter   2023-06-15 09:23:14      @user123      New York   \n",
       "1   Yelp Reviews   2023-06-15 11:45:32       user456   Los Angeles   \n",
       "2           IMDb   2023-06-15 14:10:22   moviefan789        London   \n",
       "3   Online Forum   2023-06-15 17:35:11    forumuser1       Toronto   \n",
       "4    TripAdvisor   2023-06-16 08:50:59      foodie22         Paris   \n",
       "\n",
       "  Confidence Score  \n",
       "0             0.85  \n",
       "1             0.65  \n",
       "2             0.92  \n",
       "3             0.78  \n",
       "4             0.88  "
      ]
     },
     "execution_count": 24,
     "metadata": {},
     "output_type": "execute_result"
    }
   ],
   "source": [
    "NewData = pd.DataFrame(columns = [\"Text\", \"Sentiment\", \"Source\", \"Date/Time\", \"User ID\", \"Location\", \"Confidence Score\"])\n",
    "for i in dataN.index:\n",
    "    aux = dataN.iloc[i, 0].split(\",\")\n",
    "    NewData.loc[len(NewData)] = aux\n",
    "NewData.head(5)"
   ]
  },
  {
   "cell_type": "markdown",
   "id": "4b9d0345-75fc-4aac-a370-700edea85cfb",
   "metadata": {},
   "source": [
    "This is now separated. Will need to ensure we have no null values."
   ]
  },
  {
   "cell_type": "code",
   "execution_count": 32,
   "id": "6cf4fd12-8c19-4c02-a97a-56b3a3effc40",
   "metadata": {},
   "outputs": [
    {
     "data": {
      "text/plain": [
       "<bound method DataFrame.info of     Text  Sentiment  Source  Date/Time  User ID  Location  Confidence Score\n",
       "0   True       True    True       True     True      True              True\n",
       "1   True       True    True       True     True      True              True\n",
       "2   True       True    True       True     True      True              True\n",
       "3   True       True    True       True     True      True              True\n",
       "4   True       True    True       True     True      True              True\n",
       "..   ...        ...     ...        ...      ...       ...               ...\n",
       "91  True       True    True       True     True      True              True\n",
       "92  True       True    True       True     True      True              True\n",
       "93  True       True    True       True     True      True              True\n",
       "94  True       True    True       True     True      True              True\n",
       "95  True       True    True       True     True      True              True\n",
       "\n",
       "[96 rows x 7 columns]>"
      ]
     },
     "execution_count": 32,
     "metadata": {},
     "output_type": "execute_result"
    }
   ],
   "source": [
    "NANDATA= NewData.notnull()\n",
    "NANDATA.info"
   ]
  },
  {
   "cell_type": "markdown",
   "id": "1a8a30a3-68c6-4beb-a626-d37357008212",
   "metadata": {},
   "source": [
    "## This concludes the Data Clean up for Python. While more can be done, this was not the goal for this project. Will Continue in Tableau. "
   ]
  },
  {
   "cell_type": "code",
   "execution_count": 34,
   "id": "20573a7f-67da-46ca-8b44-a651e8a8388e",
   "metadata": {},
   "outputs": [],
   "source": [
    "NewData.to_csv('CFD_Clean_Data.csv')"
   ]
  },
  {
   "cell_type": "code",
   "execution_count": null,
   "id": "a49a307f-70fe-40ac-9771-fdb3b197b950",
   "metadata": {},
   "outputs": [],
   "source": []
  }
 ],
 "metadata": {
  "kernelspec": {
   "display_name": "anaconda-panel-2023.05-py310",
   "language": "python",
   "name": "conda-env-anaconda-panel-2023.05-py310-py"
  },
  "language_info": {
   "codemirror_mode": {
    "name": "ipython",
    "version": 3
   },
   "file_extension": ".py",
   "mimetype": "text/x-python",
   "name": "python",
   "nbconvert_exporter": "python",
   "pygments_lexer": "ipython3",
   "version": "3.11.4"
  }
 },
 "nbformat": 4,
 "nbformat_minor": 5
}
